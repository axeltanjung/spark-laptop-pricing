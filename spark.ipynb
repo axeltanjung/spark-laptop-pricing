{
 "cells": [
  {
   "cell_type": "code",
   "execution_count": 19,
   "metadata": {},
   "outputs": [],
   "source": [
    "# Step 1: Import necessary libraries\n",
    "from pyspark.sql import SparkSession\n",
    "from pyspark.sql.functions import avg, when, count"
   ]
  },
  {
   "cell_type": "code",
   "execution_count": 2,
   "metadata": {},
   "outputs": [
    {
     "name": "stderr",
     "output_type": "stream",
     "text": [
      "your 131072x1 screen size is bogus. expect trouble\n",
      "24/02/19 22:59:09 WARN Utils: Your hostname, LPSS046 resolves to a loopback address: 127.0.1.1; using 172.18.179.157 instead (on interface eth0)\n",
      "24/02/19 22:59:09 WARN Utils: Set SPARK_LOCAL_IP if you need to bind to another address\n",
      "Setting default log level to \"WARN\".\n",
      "To adjust logging level use sc.setLogLevel(newLevel). For SparkR, use setLogLevel(newLevel).\n",
      "24/02/19 22:59:11 WARN NativeCodeLoader: Unable to load native-hadoop library for your platform... using builtin-java classes where applicable\n"
     ]
    }
   ],
   "source": [
    "# Step 2: Create a SparkSession\n",
    "spark = SparkSession.builder \\\n",
    "    .appName(\"LaptopStoreAnalysis\") \\\n",
    "    .getOrCreate()"
   ]
  },
  {
   "cell_type": "code",
   "execution_count": 8,
   "metadata": {},
   "outputs": [],
   "source": [
    "# Step 3: Read the CSV file into a Spark DataFrame\n",
    "file_path = \"data/laptop_pricing_dataset.csv\"\n",
    "laptop_df = spark.read.csv(file_path, header=True, inferSchema=True)"
   ]
  },
  {
   "cell_type": "code",
   "execution_count": 14,
   "metadata": {},
   "outputs": [
    {
     "name": "stdout",
     "output_type": "stream",
     "text": [
      "+------------+-----------------+\n",
      "|Manufacturer|       avg_RAM_GB|\n",
      "+------------+-----------------+\n",
      "|       Razer|             16.0|\n",
      "|     Samsung|             11.2|\n",
      "|        Dell|8.225352112676056|\n",
      "|      Huawei|              8.0|\n",
      "|      Xiaomi|              8.0|\n",
      "|         MSI|              8.0|\n",
      "|     Toshiba|              8.0|\n",
      "|        Asus|7.888888888888889|\n",
      "|      Lenovo|7.576923076923077|\n",
      "|        Acer|7.368421052631579|\n",
      "|          HP|7.346938775510204|\n",
      "+------------+-----------------+\n",
      "\n"
     ]
    }
   ],
   "source": [
    "# Step 4: Perform data transformations and calculations for each business question\n",
    "# a. Average RAM GB per manufacturer\n",
    "ram_avg_per_manufacturer = laptop_df.groupBy(\"Manufacturer\").agg(avg(\"RAM_GB\").alias(\"avg_RAM_GB\")).orderBy(\"avg_RAM_GB\", ascending=False)\n",
    "ram_avg_per_manufacturer.show()"
   ]
  },
  {
   "cell_type": "code",
   "execution_count": 16,
   "metadata": {},
   "outputs": [
    {
     "name": "stdout",
     "output_type": "stream",
     "text": [
      "+---------+------------------+\n",
      "|   Screen|   avg_screen_size|\n",
      "+---------+------------------+\n",
      "|  Full HD|37.968955414012704|\n",
      "|IPS Panel| 35.84368831168828|\n",
      "+---------+------------------+\n",
      "\n"
     ]
    }
   ],
   "source": [
    "# b. Average screen size per Screen Type\n",
    "screen_size_avg_per_type = laptop_df.groupBy(\"Screen\").agg(avg(\"Screen_Size_cm\").alias(\"avg_screen_size\")).orderBy(\"avg_screen_size\", ascending=False)\n",
    "screen_size_avg_per_type.show()"
   ]
  },
  {
   "cell_type": "code",
   "execution_count": 23,
   "metadata": {},
   "outputs": [
    {
     "name": "stdout",
     "output_type": "stream",
     "text": [
      "+------------+--------------+-----------------------------+---------------------------+\n",
      "|Manufacturer|Total_Products|Total_Products_With_IPS_Panel|Total_Products_With_Full_HD|\n",
      "+------------+--------------+-----------------------------+---------------------------+\n",
      "|       Razer|             1|                            0|                          1|\n",
      "|      Huawei|             1|                            1|                          0|\n",
      "|      Xiaomi|             1|                            1|                          0|\n",
      "|          HP|            49|                            8|                         41|\n",
      "|        Dell|            71|                            9|                         62|\n",
      "|        Acer|            19|                           14|                          5|\n",
      "|        Asus|            18|                            2|                         16|\n",
      "|      Lenovo|            52|                           32|                         20|\n",
      "|     Samsung|             5|                            0|                          5|\n",
      "|         MSI|             4|                            0|                          4|\n",
      "|     Toshiba|            17|                           10|                          7|\n",
      "+------------+--------------+-----------------------------+---------------------------+\n",
      "\n"
     ]
    }
   ],
   "source": [
    "# c. Profiling by manufacturer and screen type\n",
    "profiling_results = laptop_df.groupBy(\"Manufacturer\") \\\n",
    "    .agg(\n",
    "        count(\"Manufacturer\").alias(\"Total_Products\"),\n",
    "        count(when(laptop_df[\"Screen\"] == \"IPS Panel\", 1)).alias(\"Total_Products_With_IPS_Panel\"),\n",
    "        count(when(laptop_df[\"Screen\"] == \"Full HD\", 1)).alias(\"Total_Products_With_Full_HD\")\n",
    "    )\n",
    "profiling_results.show()"
   ]
  },
  {
   "cell_type": "code",
   "execution_count": null,
   "metadata": {},
   "outputs": [],
   "source": [
    "# Step 7: Stop the SparkSession\n",
    "spark.stop()"
   ]
  }
 ],
 "metadata": {
  "kernelspec": {
   "display_name": "Python 3",
   "language": "python",
   "name": "python3"
  },
  "language_info": {
   "codemirror_mode": {
    "name": "ipython",
    "version": 3
   },
   "file_extension": ".py",
   "mimetype": "text/x-python",
   "name": "python",
   "nbconvert_exporter": "python",
   "pygments_lexer": "ipython3",
   "version": "3.8.10"
  }
 },
 "nbformat": 4,
 "nbformat_minor": 2
}
